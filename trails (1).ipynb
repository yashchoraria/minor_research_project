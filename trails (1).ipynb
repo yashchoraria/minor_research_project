{
 "cells": [
  {
   "cell_type": "code",
   "execution_count": 1,
   "metadata": {},
   "outputs": [],
   "source": [
    "import pandas as pd\n",
    "import numpy as np"
   ]
  },
  {
   "cell_type": "code",
   "execution_count": 2,
   "metadata": {},
   "outputs": [
    {
     "data": {
      "text/html": [
       "<div>\n",
       "<style scoped>\n",
       "    .dataframe tbody tr th:only-of-type {\n",
       "        vertical-align: middle;\n",
       "    }\n",
       "\n",
       "    .dataframe tbody tr th {\n",
       "        vertical-align: top;\n",
       "    }\n",
       "\n",
       "    .dataframe thead th {\n",
       "        text-align: right;\n",
       "    }\n",
       "</style>\n",
       "<table border=\"1\" class=\"dataframe\">\n",
       "  <thead>\n",
       "    <tr style=\"text-align: right;\">\n",
       "      <th></th>\n",
       "      <th>S F</th>\n",
       "      <th>S A</th>\n",
       "      <th>S I</th>\n",
       "      <th>S NH4</th>\n",
       "      <th>S PO4</th>\n",
       "      <th>X i</th>\n",
       "      <th>X S</th>\n",
       "      <th>X H</th>\n",
       "      <th>X TSS</th>\n",
       "      <th>Q</th>\n",
       "      <th>...</th>\n",
       "      <th>tp</th>\n",
       "      <th>tss</th>\n",
       "      <th>ammonia</th>\n",
       "      <th>bod5</th>\n",
       "      <th>carbon</th>\n",
       "      <th>h2</th>\n",
       "      <th>methane</th>\n",
       "      <th>NO</th>\n",
       "      <th>N2</th>\n",
       "      <th>RR</th>\n",
       "    </tr>\n",
       "  </thead>\n",
       "  <tbody>\n",
       "    <tr>\n",
       "      <th>0</th>\n",
       "      <td>53.170777</td>\n",
       "      <td>43.639187</td>\n",
       "      <td>31.919538</td>\n",
       "      <td>19.385486</td>\n",
       "      <td>3.613629</td>\n",
       "      <td>93.229706</td>\n",
       "      <td>351.358791</td>\n",
       "      <td>45.369668</td>\n",
       "      <td>355.157538</td>\n",
       "      <td>15307.63858</td>\n",
       "      <td>...</td>\n",
       "      <td>1.224058</td>\n",
       "      <td>30.585993</td>\n",
       "      <td>0.139058</td>\n",
       "      <td>2.148730</td>\n",
       "      <td>1321.410304</td>\n",
       "      <td>0.003236</td>\n",
       "      <td>933.765623</td>\n",
       "      <td>717.813237</td>\n",
       "      <td>2138.100228</td>\n",
       "      <td>70.826474</td>\n",
       "    </tr>\n",
       "    <tr>\n",
       "      <th>1</th>\n",
       "      <td>51.998858</td>\n",
       "      <td>42.677351</td>\n",
       "      <td>31.685785</td>\n",
       "      <td>19.493344</td>\n",
       "      <td>3.838283</td>\n",
       "      <td>94.105669</td>\n",
       "      <td>352.207167</td>\n",
       "      <td>45.517480</td>\n",
       "      <td>356.508095</td>\n",
       "      <td>14574.93809</td>\n",
       "      <td>...</td>\n",
       "      <td>1.193506</td>\n",
       "      <td>29.561391</td>\n",
       "      <td>0.142296</td>\n",
       "      <td>2.105285</td>\n",
       "      <td>1322.277244</td>\n",
       "      <td>0.003237</td>\n",
       "      <td>934.061744</td>\n",
       "      <td>679.791369</td>\n",
       "      <td>2035.989836</td>\n",
       "      <td>68.525316</td>\n",
       "    </tr>\n",
       "    <tr>\n",
       "      <th>2</th>\n",
       "      <td>50.651975</td>\n",
       "      <td>41.571915</td>\n",
       "      <td>31.509670</td>\n",
       "      <td>19.178030</td>\n",
       "      <td>4.105598</td>\n",
       "      <td>93.981237</td>\n",
       "      <td>350.862604</td>\n",
       "      <td>45.693588</td>\n",
       "      <td>355.646347</td>\n",
       "      <td>14070.15137</td>\n",
       "      <td>...</td>\n",
       "      <td>1.165609</td>\n",
       "      <td>28.835293</td>\n",
       "      <td>0.145253</td>\n",
       "      <td>2.065195</td>\n",
       "      <td>1323.150062</td>\n",
       "      <td>0.003237</td>\n",
       "      <td>934.304890</td>\n",
       "      <td>652.846088</td>\n",
       "      <td>1965.349259</td>\n",
       "      <td>66.928797</td>\n",
       "    </tr>\n",
       "    <tr>\n",
       "      <th>3</th>\n",
       "      <td>49.200102</td>\n",
       "      <td>40.380310</td>\n",
       "      <td>31.385439</td>\n",
       "      <td>18.550334</td>\n",
       "      <td>4.401141</td>\n",
       "      <td>93.092217</td>\n",
       "      <td>347.890504</td>\n",
       "      <td>45.888119</td>\n",
       "      <td>353.124707</td>\n",
       "      <td>13672.40127</td>\n",
       "      <td>...</td>\n",
       "      <td>1.140822</td>\n",
       "      <td>28.248671</td>\n",
       "      <td>0.147880</td>\n",
       "      <td>2.030011</td>\n",
       "      <td>1323.996350</td>\n",
       "      <td>0.003238</td>\n",
       "      <td>934.486918</td>\n",
       "      <td>631.354136</td>\n",
       "      <td>1909.873041</td>\n",
       "      <td>65.664470</td>\n",
       "    </tr>\n",
       "    <tr>\n",
       "      <th>4</th>\n",
       "      <td>47.726799</td>\n",
       "      <td>39.171117</td>\n",
       "      <td>31.292641</td>\n",
       "      <td>17.787845</td>\n",
       "      <td>4.711351</td>\n",
       "      <td>91.843429</td>\n",
       "      <td>344.228528</td>\n",
       "      <td>46.089038</td>\n",
       "      <td>349.873102</td>\n",
       "      <td>13321.63340</td>\n",
       "      <td>...</td>\n",
       "      <td>1.119081</td>\n",
       "      <td>27.721714</td>\n",
       "      <td>0.150127</td>\n",
       "      <td>1.999745</td>\n",
       "      <td>1324.836607</td>\n",
       "      <td>0.003238</td>\n",
       "      <td>934.630692</td>\n",
       "      <td>612.396265</td>\n",
       "      <td>1861.019256</td>\n",
       "      <td>64.545369</td>\n",
       "    </tr>\n",
       "  </tbody>\n",
       "</table>\n",
       "<p>5 rows × 24 columns</p>\n",
       "</div>"
      ],
      "text/plain": [
       "        S F        S A        S I      S NH4     S PO4        X i   \\\n",
       "0  53.170777  43.639187  31.919538  19.385486  3.613629  93.229706   \n",
       "1  51.998858  42.677351  31.685785  19.493344  3.838283  94.105669   \n",
       "2  50.651975  41.571915  31.509670  19.178030  4.105598  93.981237   \n",
       "3  49.200102  40.380310  31.385439  18.550334  4.401141  93.092217   \n",
       "4  47.726799  39.171117  31.292641  17.787845  4.711351  91.843429   \n",
       "\n",
       "         X S        X H        X TSS            Q  ...        tp        tss  \\\n",
       "0  351.358791  45.369668  355.157538  15307.63858  ...  1.224058  30.585993   \n",
       "1  352.207167  45.517480  356.508095  14574.93809  ...  1.193506  29.561391   \n",
       "2  350.862604  45.693588  355.646347  14070.15137  ...  1.165609  28.835293   \n",
       "3  347.890504  45.888119  353.124707  13672.40127  ...  1.140822  28.248671   \n",
       "4  344.228528  46.089038  349.873102  13321.63340  ...  1.119081  27.721714   \n",
       "\n",
       "    ammonia      bod5       carbon        h2     methane          NO  \\\n",
       "0  0.139058  2.148730  1321.410304  0.003236  933.765623  717.813237   \n",
       "1  0.142296  2.105285  1322.277244  0.003237  934.061744  679.791369   \n",
       "2  0.145253  2.065195  1323.150062  0.003237  934.304890  652.846088   \n",
       "3  0.147880  2.030011  1323.996350  0.003238  934.486918  631.354136   \n",
       "4  0.150127  1.999745  1324.836607  0.003238  934.630692  612.396265   \n",
       "\n",
       "            N2         RR  \n",
       "0  2138.100228  70.826474  \n",
       "1  2035.989836  68.525316  \n",
       "2  1965.349259  66.928797  \n",
       "3  1909.873041  65.664470  \n",
       "4  1861.019256  64.545369  \n",
       "\n",
       "[5 rows x 24 columns]"
      ]
     },
     "execution_count": 2,
     "metadata": {},
     "output_type": "execute_result"
    }
   ],
   "source": [
    "df=pd.read_csv('bsm 2p psfe.csv')\n",
    "df.head()"
   ]
  },
  {
   "cell_type": "code",
   "execution_count": 3,
   "metadata": {},
   "outputs": [
    {
     "data": {
      "text/html": [
       "<div>\n",
       "<style scoped>\n",
       "    .dataframe tbody tr th:only-of-type {\n",
       "        vertical-align: middle;\n",
       "    }\n",
       "\n",
       "    .dataframe tbody tr th {\n",
       "        vertical-align: top;\n",
       "    }\n",
       "\n",
       "    .dataframe thead th {\n",
       "        text-align: right;\n",
       "    }\n",
       "</style>\n",
       "<table border=\"1\" class=\"dataframe\">\n",
       "  <thead>\n",
       "    <tr style=\"text-align: right;\">\n",
       "      <th></th>\n",
       "      <th>S F</th>\n",
       "      <th>S A</th>\n",
       "      <th>S I</th>\n",
       "      <th>S NH4</th>\n",
       "      <th>S PO4</th>\n",
       "      <th>X i</th>\n",
       "      <th>X S</th>\n",
       "      <th>X H</th>\n",
       "      <th>X TSS</th>\n",
       "      <th>Q</th>\n",
       "      <th>...</th>\n",
       "      <th>tp</th>\n",
       "      <th>tss</th>\n",
       "      <th>ammonia</th>\n",
       "      <th>bod5</th>\n",
       "      <th>carbon</th>\n",
       "      <th>h2</th>\n",
       "      <th>methane</th>\n",
       "      <th>NO</th>\n",
       "      <th>N2</th>\n",
       "      <th>RR</th>\n",
       "    </tr>\n",
       "  </thead>\n",
       "  <tbody>\n",
       "    <tr>\n",
       "      <th>count</th>\n",
       "      <td>34944.000000</td>\n",
       "      <td>34944.000000</td>\n",
       "      <td>34944.000000</td>\n",
       "      <td>34944.000000</td>\n",
       "      <td>34944.000000</td>\n",
       "      <td>34944.000000</td>\n",
       "      <td>34944.000000</td>\n",
       "      <td>34944.000000</td>\n",
       "      <td>34944.000000</td>\n",
       "      <td>34944.000000</td>\n",
       "      <td>...</td>\n",
       "      <td>34944.000000</td>\n",
       "      <td>34944.000000</td>\n",
       "      <td>34944.000000</td>\n",
       "      <td>34944.000000</td>\n",
       "      <td>34944.000000</td>\n",
       "      <td>34944.000000</td>\n",
       "      <td>34944.000000</td>\n",
       "      <td>34944.000000</td>\n",
       "      <td>34944.000000</td>\n",
       "      <td>34944.000000</td>\n",
       "    </tr>\n",
       "    <tr>\n",
       "      <th>mean</th>\n",
       "      <td>65.924782</td>\n",
       "      <td>54.106862</td>\n",
       "      <td>27.354630</td>\n",
       "      <td>24.152427</td>\n",
       "      <td>5.429997</td>\n",
       "      <td>93.610742</td>\n",
       "      <td>368.263303</td>\n",
       "      <td>51.281462</td>\n",
       "      <td>372.932348</td>\n",
       "      <td>20935.404488</td>\n",
       "      <td>...</td>\n",
       "      <td>1.387850</td>\n",
       "      <td>36.790810</td>\n",
       "      <td>1.684387</td>\n",
       "      <td>3.041884</td>\n",
       "      <td>1350.438458</td>\n",
       "      <td>0.003563</td>\n",
       "      <td>975.314534</td>\n",
       "      <td>933.211365</td>\n",
       "      <td>2723.375649</td>\n",
       "      <td>76.941079</td>\n",
       "    </tr>\n",
       "    <tr>\n",
       "      <th>std</th>\n",
       "      <td>33.763119</td>\n",
       "      <td>27.710618</td>\n",
       "      <td>5.101709</td>\n",
       "      <td>10.046002</td>\n",
       "      <td>2.312198</td>\n",
       "      <td>33.452275</td>\n",
       "      <td>130.274027</td>\n",
       "      <td>18.472167</td>\n",
       "      <td>131.641868</td>\n",
       "      <td>8509.603527</td>\n",
       "      <td>...</td>\n",
       "      <td>1.746277</td>\n",
       "      <td>11.171102</td>\n",
       "      <td>1.549270</td>\n",
       "      <td>5.232034</td>\n",
       "      <td>63.197033</td>\n",
       "      <td>0.000245</td>\n",
       "      <td>42.508757</td>\n",
       "      <td>474.915476</td>\n",
       "      <td>1089.591861</td>\n",
       "      <td>19.764779</td>\n",
       "    </tr>\n",
       "    <tr>\n",
       "      <th>min</th>\n",
       "      <td>1.110071</td>\n",
       "      <td>0.911076</td>\n",
       "      <td>2.108108</td>\n",
       "      <td>1.750411</td>\n",
       "      <td>0.191626</td>\n",
       "      <td>4.987019</td>\n",
       "      <td>20.522235</td>\n",
       "      <td>2.475601</td>\n",
       "      <td>29.856373</td>\n",
       "      <td>6436.291406</td>\n",
       "      <td>...</td>\n",
       "      <td>0.736252</td>\n",
       "      <td>15.920108</td>\n",
       "      <td>0.082951</td>\n",
       "      <td>1.665248</td>\n",
       "      <td>1127.360992</td>\n",
       "      <td>0.002916</td>\n",
       "      <td>815.283241</td>\n",
       "      <td>99.509180</td>\n",
       "      <td>874.176058</td>\n",
       "      <td>33.216145</td>\n",
       "    </tr>\n",
       "    <tr>\n",
       "      <th>25%</th>\n",
       "      <td>38.377696</td>\n",
       "      <td>31.497968</td>\n",
       "      <td>25.204803</td>\n",
       "      <td>16.543532</td>\n",
       "      <td>3.694149</td>\n",
       "      <td>68.685831</td>\n",
       "      <td>271.178305</td>\n",
       "      <td>37.596506</td>\n",
       "      <td>274.318750</td>\n",
       "      <td>14800.505442</td>\n",
       "      <td>...</td>\n",
       "      <td>0.968464</td>\n",
       "      <td>28.825959</td>\n",
       "      <td>0.384074</td>\n",
       "      <td>2.168304</td>\n",
       "      <td>1310.416616</td>\n",
       "      <td>0.003391</td>\n",
       "      <td>949.063435</td>\n",
       "      <td>595.269192</td>\n",
       "      <td>1928.890266</td>\n",
       "      <td>61.673017</td>\n",
       "    </tr>\n",
       "    <tr>\n",
       "      <th>50%</th>\n",
       "      <td>62.929580</td>\n",
       "      <td>51.648592</td>\n",
       "      <td>28.143939</td>\n",
       "      <td>23.282028</td>\n",
       "      <td>5.276130</td>\n",
       "      <td>96.113551</td>\n",
       "      <td>379.783488</td>\n",
       "      <td>52.654986</td>\n",
       "      <td>385.006101</td>\n",
       "      <td>19740.375525</td>\n",
       "      <td>...</td>\n",
       "      <td>1.102213</td>\n",
       "      <td>35.491106</td>\n",
       "      <td>1.213736</td>\n",
       "      <td>2.440078</td>\n",
       "      <td>1352.721267</td>\n",
       "      <td>0.003562</td>\n",
       "      <td>977.974159</td>\n",
       "      <td>876.912352</td>\n",
       "      <td>2568.605984</td>\n",
       "      <td>75.541724</td>\n",
       "    </tr>\n",
       "    <tr>\n",
       "      <th>75%</th>\n",
       "      <td>89.018815</td>\n",
       "      <td>73.060974</td>\n",
       "      <td>30.587379</td>\n",
       "      <td>30.632422</td>\n",
       "      <td>7.004173</td>\n",
       "      <td>116.676176</td>\n",
       "      <td>458.979153</td>\n",
       "      <td>64.597806</td>\n",
       "      <td>464.270487</td>\n",
       "      <td>25366.166965</td>\n",
       "      <td>...</td>\n",
       "      <td>1.336674</td>\n",
       "      <td>42.797343</td>\n",
       "      <td>2.588521</td>\n",
       "      <td>2.817632</td>\n",
       "      <td>1393.911969</td>\n",
       "      <td>0.003747</td>\n",
       "      <td>1004.815011</td>\n",
       "      <td>1167.414888</td>\n",
       "      <td>3295.355311</td>\n",
       "      <td>89.985173</td>\n",
       "    </tr>\n",
       "    <tr>\n",
       "      <th>max</th>\n",
       "      <td>173.287773</td>\n",
       "      <td>142.223568</td>\n",
       "      <td>41.112506</td>\n",
       "      <td>58.653123</td>\n",
       "      <td>14.979794</td>\n",
       "      <td>201.308722</td>\n",
       "      <td>776.482674</td>\n",
       "      <td>107.249934</td>\n",
       "      <td>787.825745</td>\n",
       "      <td>76944.068700</td>\n",
       "      <td>...</td>\n",
       "      <td>43.719176</td>\n",
       "      <td>93.379689</td>\n",
       "      <td>8.931518</td>\n",
       "      <td>130.574807</td>\n",
       "      <td>1521.941391</td>\n",
       "      <td>0.004210</td>\n",
       "      <td>1084.565689</td>\n",
       "      <td>4771.833645</td>\n",
       "      <td>8502.411616</td>\n",
       "      <td>161.372533</td>\n",
       "    </tr>\n",
       "  </tbody>\n",
       "</table>\n",
       "<p>8 rows × 24 columns</p>\n",
       "</div>"
      ],
      "text/plain": [
       "               S F           S A           S I         S NH4         S PO4   \\\n",
       "count  34944.000000  34944.000000  34944.000000  34944.000000  34944.000000   \n",
       "mean      65.924782     54.106862     27.354630     24.152427      5.429997   \n",
       "std       33.763119     27.710618      5.101709     10.046002      2.312198   \n",
       "min        1.110071      0.911076      2.108108      1.750411      0.191626   \n",
       "25%       38.377696     31.497968     25.204803     16.543532      3.694149   \n",
       "50%       62.929580     51.648592     28.143939     23.282028      5.276130   \n",
       "75%       89.018815     73.060974     30.587379     30.632422      7.004173   \n",
       "max      173.287773    142.223568     41.112506     58.653123     14.979794   \n",
       "\n",
       "               X i           X S           X H          X TSS             Q  \\\n",
       "count  34944.000000  34944.000000  34944.000000  34944.000000  34944.000000   \n",
       "mean      93.610742    368.263303     51.281462    372.932348  20935.404488   \n",
       "std       33.452275    130.274027     18.472167    131.641868   8509.603527   \n",
       "min        4.987019     20.522235      2.475601     29.856373   6436.291406   \n",
       "25%       68.685831    271.178305     37.596506    274.318750  14800.505442   \n",
       "50%       96.113551    379.783488     52.654986    385.006101  19740.375525   \n",
       "75%      116.676176    458.979153     64.597806    464.270487  25366.166965   \n",
       "max      201.308722    776.482674    107.249934    787.825745  76944.068700   \n",
       "\n",
       "       ...            tp           tss       ammonia          bod5  \\\n",
       "count  ...  34944.000000  34944.000000  34944.000000  34944.000000   \n",
       "mean   ...      1.387850     36.790810      1.684387      3.041884   \n",
       "std    ...      1.746277     11.171102      1.549270      5.232034   \n",
       "min    ...      0.736252     15.920108      0.082951      1.665248   \n",
       "25%    ...      0.968464     28.825959      0.384074      2.168304   \n",
       "50%    ...      1.102213     35.491106      1.213736      2.440078   \n",
       "75%    ...      1.336674     42.797343      2.588521      2.817632   \n",
       "max    ...     43.719176     93.379689      8.931518    130.574807   \n",
       "\n",
       "             carbon            h2       methane            NO            N2  \\\n",
       "count  34944.000000  34944.000000  34944.000000  34944.000000  34944.000000   \n",
       "mean    1350.438458      0.003563    975.314534    933.211365   2723.375649   \n",
       "std       63.197033      0.000245     42.508757    474.915476   1089.591861   \n",
       "min     1127.360992      0.002916    815.283241     99.509180    874.176058   \n",
       "25%     1310.416616      0.003391    949.063435    595.269192   1928.890266   \n",
       "50%     1352.721267      0.003562    977.974159    876.912352   2568.605984   \n",
       "75%     1393.911969      0.003747   1004.815011   1167.414888   3295.355311   \n",
       "max     1521.941391      0.004210   1084.565689   4771.833645   8502.411616   \n",
       "\n",
       "                 RR  \n",
       "count  34944.000000  \n",
       "mean      76.941079  \n",
       "std       19.764779  \n",
       "min       33.216145  \n",
       "25%       61.673017  \n",
       "50%       75.541724  \n",
       "75%       89.985173  \n",
       "max      161.372533  \n",
       "\n",
       "[8 rows x 24 columns]"
      ]
     },
     "execution_count": 3,
     "metadata": {},
     "output_type": "execute_result"
    }
   ],
   "source": [
    "df.describe()"
   ]
  },
  {
   "cell_type": "code",
   "execution_count": 4,
   "metadata": {},
   "outputs": [
    {
     "data": {
      "text/plain": [
       "S F        0\n",
       "S A        0\n",
       "S I        0\n",
       "S NH4      0\n",
       "S PO4      0\n",
       "X i        0\n",
       "X S        0\n",
       "X H        0\n",
       "X TSS      0\n",
       "Q          0\n",
       "Temp       0\n",
       "x iss      0\n",
       "cod        0\n",
       "tn         0\n",
       "tp         0\n",
       "tss        0\n",
       "ammonia    0\n",
       "bod5       0\n",
       "carbon     0\n",
       "h2         0\n",
       "methane    0\n",
       "NO         0\n",
       "N2         0\n",
       "RR         0\n",
       "dtype: int64"
      ]
     },
     "execution_count": 4,
     "metadata": {},
     "output_type": "execute_result"
    }
   ],
   "source": [
    "df.isnull().sum()"
   ]
  },
  {
   "cell_type": "code",
   "execution_count": 5,
   "metadata": {},
   "outputs": [
    {
     "name": "stdout",
     "output_type": "stream",
     "text": [
      "Index(['S F ', 'S A ', 'S I ', 'S NH4 ', 'S PO4 ', 'X i ', 'X S ', 'X H ',\n",
      "       'X TSS', 'Q', 'Temp', 'x iss', 'cod', 'tn', 'tp', 'tss', 'ammonia',\n",
      "       'bod5', 'carbon', 'h2', 'methane', 'NO', 'N2', 'RR'],\n",
      "      dtype='object')\n"
     ]
    }
   ],
   "source": [
    "columns=df.columns\n",
    "print(columns)"
   ]
  },
  {
   "cell_type": "code",
   "execution_count": 6,
   "metadata": {},
   "outputs": [
    {
     "name": "stdout",
     "output_type": "stream",
     "text": [
      "Index(['S F ', 'S A ', 'S I ', 'S NH4 ', 'S PO4 ', 'X i ', 'X S ', 'X H ',\n",
      "       'X TSS', 'Q', 'Temp', 'x iss'],\n",
      "      dtype='object')\n"
     ]
    }
   ],
   "source": [
    "features=columns[:12]\n",
    "print(features)"
   ]
  },
  {
   "cell_type": "code",
   "execution_count": 7,
   "metadata": {},
   "outputs": [
    {
     "name": "stdout",
     "output_type": "stream",
     "text": [
      "Index(['cod', 'tn', 'tp', 'tss', 'ammonia', 'bod5', 'carbon', 'h2', 'methane',\n",
      "       'NO', 'N2'],\n",
      "      dtype='object')\n"
     ]
    }
   ],
   "source": [
    "targets=columns[12:-1]\n",
    "print(targets)"
   ]
  },
  {
   "cell_type": "code",
   "execution_count": 8,
   "metadata": {},
   "outputs": [],
   "source": [
    "X=df[features]\n",
    "y=df[targets]"
   ]
  },
  {
   "cell_type": "code",
   "execution_count": 9,
   "metadata": {},
   "outputs": [
    {
     "name": "stdout",
     "output_type": "stream",
     "text": [
      "34944\n"
     ]
    }
   ],
   "source": [
    "print(len(X))"
   ]
  },
  {
   "cell_type": "code",
   "execution_count": 10,
   "metadata": {},
   "outputs": [],
   "source": [
    "from sklearn.pipeline import Pipeline\n",
    "from sklearn.decomposition import PCA\n",
    "from sklearn.preprocessing import StandardScaler\n",
    "from sklearn.tree import DecisionTreeRegressor\n",
    "from sklearn.tree import ExtraTreeRegressor\n",
    "from sklearn.ensemble import RandomForestRegressor\n",
    "from sklearn.metrics import r2_score\n",
    "from sklearn.model_selection import train_test_split\n",
    "from sklearn.model_selection import RandomizedSearchCV"
   ]
  },
  {
   "cell_type": "code",
   "execution_count": 11,
   "metadata": {},
   "outputs": [],
   "source": [
    "def score(model,x_train,x_test,y_train,y_test):\n",
    "    model.fit(x_train,y_train)\n",
    "    y_pred = model.predict(x_test)\n",
    "    return r2_score(y_pred,y_test)"
   ]
  },
  {
   "cell_type": "code",
   "execution_count": 12,
   "metadata": {},
   "outputs": [],
   "source": [
    "x_train,x_test,y_train,y_test=train_test_split(X,y,test_size=0.3)"
   ]
  },
  {
   "cell_type": "code",
   "execution_count": 13,
   "metadata": {},
   "outputs": [],
   "source": [
    "sc1=StandardScaler()\n",
    "x_train_sc=sc1.fit_transform(x_train)\n",
    "x_test_sc=sc1.transform(x_test)\n",
    "sc2=StandardScaler()\n",
    "y_train_sc=sc2.fit_transform(y_train)\n",
    "y_test_sc=sc2.fit_transform(y_test)"
   ]
  },
  {
   "cell_type": "code",
   "execution_count": 14,
   "metadata": {},
   "outputs": [],
   "source": [
    "pc=PCA(n_components=10)\n",
    "x_train_sc_pca=pc.fit_transform(x_train_sc)\n",
    "x_test_sc_pca=pc.fit_transform(x_test_sc)"
   ]
  },
  {
   "cell_type": "code",
   "execution_count": 15,
   "metadata": {},
   "outputs": [
    {
     "data": {
      "text/plain": [
       "0.7340105552172944"
      ]
     },
     "execution_count": 15,
     "metadata": {},
     "output_type": "execute_result"
    }
   ],
   "source": [
    "dtr=DecisionTreeRegressor(random_state=0)\n",
    "score(dtr,x_train_sc,x_test_sc,y_train_sc,y_test_sc)"
   ]
  },
  {
   "cell_type": "code",
   "execution_count": 16,
   "metadata": {},
   "outputs": [
    {
     "data": {
      "text/plain": [
       "0.7335191148604964"
      ]
     },
     "execution_count": 16,
     "metadata": {},
     "output_type": "execute_result"
    }
   ],
   "source": [
    "etr=ExtraTreeRegressor(random_state=0)\n",
    "score(etr,x_train_sc,x_test_sc,y_train_sc,y_test_sc)"
   ]
  },
  {
   "cell_type": "code",
   "execution_count": 17,
   "metadata": {},
   "outputs": [
    {
     "data": {
      "text/plain": [
       "0.839414586211316"
      ]
     },
     "execution_count": 17,
     "metadata": {},
     "output_type": "execute_result"
    }
   ],
   "source": [
    "rfr=RandomForestRegressor(random_state=0,max_depth=200)\n",
    "score(rfr,x_train_sc,x_test_sc,y_train_sc,y_test_sc)"
   ]
  },
  {
   "attachments": {},
   "cell_type": "markdown",
   "metadata": {},
   "source": [
    "RandomForest Tuning"
   ]
  },
  {
   "cell_type": "code",
   "execution_count": 18,
   "metadata": {},
   "outputs": [],
   "source": [
    "n_estimators = [int(x) for x in np.linspace(start = 200, stop = 2000, num = 10)]\n",
    "max_features = ['auto', 'sqrt']\n",
    "max_depth = [int(x) for x in np.linspace(10, 110, num = 11)]\n",
    "max_depth.append(None)\n",
    "min_samples_split = [2, 5, 10]\n",
    "min_samples_leaf = [1, 2, 4]\n",
    "bootstrap = [True, False]\n",
    "\n",
    "random_grid = {'n_estimators': n_estimators,\n",
    "               'max_features': max_features,\n",
    "               'max_depth': max_depth,\n",
    "               'min_samples_split': min_samples_split,\n",
    "               'min_samples_leaf': min_samples_leaf,\n",
    "               'bootstrap': bootstrap}"
   ]
  },
  {
   "cell_type": "code",
   "execution_count": 20,
   "metadata": {},
   "outputs": [
    {
     "name": "stdout",
     "output_type": "stream",
     "text": [
      "Fitting 3 folds for each of 100 candidates, totalling 300 fits\n"
     ]
    }
   ],
   "source": [
    "rf=RandomizedSearchCV(RandomForestRegressor(),random_grid,n_iter=100,cv=3,verbose=2,random_state=0,n_jobs=-1)\n",
    "rf.fit(x_train_sc,y_train_sc)"
   ]
  },
  {
   "cell_type": "code",
   "execution_count": null,
   "metadata": {},
   "outputs": [
    {
     "data": {
      "text/plain": [
       "RandomForestRegressor(bootstrap=False, max_depth=100, max_features='sqrt',\n",
       "                      n_estimators=1600)"
      ]
     },
     "execution_count": 92,
     "metadata": {},
     "output_type": "execute_result"
    }
   ],
   "source": [
    "rf.best_estimator_"
   ]
  },
  {
   "cell_type": "code",
   "execution_count": null,
   "metadata": {},
   "outputs": [],
   "source": [
    "best_rfr=RandomForestRegressor(bootstrap=False, max_depth=100, max_features='sqrt',\n",
    "                      n_estimators=1600)"
   ]
  },
  {
   "cell_type": "code",
   "execution_count": null,
   "metadata": {},
   "outputs": [
    {
     "data": {
      "text/plain": [
       "RandomForestRegressor(bootstrap=False, max_depth=100, max_features='sqrt',\n",
       "                      n_estimators=1600)"
      ]
     },
     "execution_count": 95,
     "metadata": {},
     "output_type": "execute_result"
    }
   ],
   "source": [
    "best_rfr.fit(x_train_sc,y_train_sc)"
   ]
  },
  {
   "cell_type": "code",
   "execution_count": null,
   "metadata": {},
   "outputs": [
    {
     "data": {
      "text/plain": [
       "0.8773668660865946"
      ]
     },
     "execution_count": 96,
     "metadata": {},
     "output_type": "execute_result"
    }
   ],
   "source": [
    "y_pred=best_rfr.predict(x_test_sc)\n",
    "r2_score(y_pred,y_test_sc)"
   ]
  },
  {
   "cell_type": "code",
   "execution_count": null,
   "metadata": {},
   "outputs": [],
   "source": []
  }
 ],
 "metadata": {
  "kernelspec": {
   "display_name": "base",
   "language": "python",
   "name": "python3"
  },
  "language_info": {
   "codemirror_mode": {
    "name": "ipython",
    "version": 3
   },
   "file_extension": ".py",
   "mimetype": "text/x-python",
   "name": "python",
   "nbconvert_exporter": "python",
   "pygments_lexer": "ipython3",
   "version": "3.9.13"
  },
  "orig_nbformat": 4
 },
 "nbformat": 4,
 "nbformat_minor": 2
}
